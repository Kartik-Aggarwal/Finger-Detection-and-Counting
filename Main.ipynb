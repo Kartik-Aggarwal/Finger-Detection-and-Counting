{
 "cells": [
  {
   "cell_type": "markdown",
   "metadata": {},
   "source": [
    "# Finger Detection and Counting using OpenCV"
   ]
  },
  {
   "cell_type": "code",
   "execution_count": 1,
   "metadata": {},
   "outputs": [],
   "source": [
    "# importing libraries\n",
    "import cv2\n",
    "import numpy as np\n",
    "from sklearn.metrics import pairwise"
   ]
  },
  {
   "cell_type": "markdown",
   "metadata": {},
   "source": [
    "## Global Variables\n",
    "\n",
    "We will use these as we go along."
   ]
  },
  {
   "cell_type": "code",
   "execution_count": 2,
   "metadata": {},
   "outputs": [],
   "source": [
    "background = None\n",
    "\n",
    "# Start with a halfway point between 0 and 1 of accumulated weight\n",
    "accumulated_weight = 0.5\n",
    "\n",
    "# Coordinates of rectangle of ROI for grabbing the hand \n",
    "roi_top = 20\n",
    "roi_bottom = 300\n",
    "roi_right = 30\n",
    "roi_left = 300"
   ]
  },
  {
   "cell_type": "markdown",
   "metadata": {},
   "source": [
    "## Average Background Value of ROI\n",
    "\n",
    "The function calculates the weighted sum of the input image src and the accumulator dst so that dst becomes a running average of a frame sequence:"
   ]
  },
  {
   "cell_type": "code",
   "execution_count": 3,
   "metadata": {},
   "outputs": [],
   "source": [
    "def calc_accum_avg(frame,accumulated_weight):\n",
    "    \n",
    "    global background\n",
    "    \n",
    "    # for the first iteration, create the background from a copy of the frame\n",
    "    if background is None:\n",
    "        background = frame.copy().astype('float')\n",
    "        return None\n",
    "    \n",
    "    # compute weighted average, accumulate it, and take its average\n",
    "    cv2.accumulateWeighted(frame,background,accumulated_weight)"
   ]
  },
  {
   "cell_type": "markdown",
   "metadata": {},
   "source": [
    "## Segmenting the Hand Region in Frame"
   ]
  },
  {
   "cell_type": "code",
   "execution_count": 4,
   "metadata": {},
   "outputs": [],
   "source": [
    "def segment(frame,threshold_min=10):\n",
    "    \n",
    "    # Calculates the absolute difference between the averaged background obtained and the input frame passed\n",
    "    diff = cv2.absdiff(background.astype('uint8'),frame)\n",
    "    \n",
    "    # Applying a threshold to the image so as to extract out the hand from foreground\n",
    "    ret,thresholded = cv2.threshold(diff,threshold_min,255,cv2.THRESH_BINARY)\n",
    "    \n",
    "    # Grabing the external contours from the image\n",
    "    contours,hierarchy = cv2.findContours(thresholded.copy(),cv2.RETR_EXTERNAL,cv2.CHAIN_APPROX_SIMPLE)\n",
    "    \n",
    "    # if the length of contours list = 0, then we didn't find any contours\n",
    "    if len(contours) == 0:\n",
    "        return None\n",
    "    \n",
    "    else:\n",
    "        # ASSUMING THE LARGEST EXTERNAL CONTOUR IN ROI, IS THE HAND\n",
    "        # this will be our segment\n",
    "        hand_segment = max(contours,key=cv2.contourArea)\n",
    "\n",
    "\n",
    "        # Return both the hand segment and the thresholded hand image\n",
    "        return (thresholded,hand_segment)"
   ]
  },
  {
   "cell_type": "markdown",
   "metadata": {},
   "source": [
    "## Counting Fingers with a Convex Hull\n",
    "\n",
    "We have calculated the external contour of the hand. Now using that segmented hand, we will make a convex hull around it to find how many fingers are up \n",
    "\n"
   ]
  },
  {
   "cell_type": "code",
   "execution_count": 5,
   "metadata": {},
   "outputs": [],
   "source": [
    "def count_fingers(thresholded,hand_segment):\n",
    "    \n",
    "    # Calculated the convex hull of the hand segment\n",
    "    conv_hull =cv2.convexHull(hand_segment)\n",
    "    \n",
    "    \n",
    "    # Now the convex hull will have at least 4 most outward points, on the top, bottom, left, and right.\n",
    "    # Grabbing those points using argmin and argmax\n",
    "\n",
    "    top    = tuple(conv_hull[conv_hull[:, :, 1].argmin()][0])\n",
    "    bottom = tuple(conv_hull[conv_hull[:, :, 1].argmax()][0])\n",
    "    left   = tuple(conv_hull[conv_hull[:, :, 0].argmin()][0])\n",
    "    right  = tuple(conv_hull[conv_hull[:, :, 0].argmax()][0])\n",
    "    \n",
    "\n",
    "    # Assuming the center of hand to be at the mid-point of (top and bottom) and (left and right)\n",
    "    cX = (left[0] + right[0]) // 2\n",
    "    cY = (top[1] + bottom[1]) // 2\n",
    "    \n",
    "    # Calculate the Euclidean Distance between the center of the hand and the left, right, top, and bottom.    \n",
    "    distance = pairwise.euclidean_distances([(cX,cY)],Y=[left,right,top,bottom])[0]\n",
    "    \n",
    "        \n",
    "    # Grab the largest distance\n",
    "    max_distance = distance.max()\n",
    "    \n",
    "    \n",
    "    # Creating a circle with 90% radius if the max euclidean distance\n",
    "    radius = int(0.9*max_distance)\n",
    "    circumfrence = (2*np.pi*radius)\n",
    "\n",
    "    # Not grab an ROI of only that circle\n",
    "    circular_roi = np.zeros(thresholded.shape[:2],dtype='uint8')\n",
    "    \n",
    "    # draw the circular ROI    \n",
    "    cv2.circle(circular_roi,(cX,cY),radius,255,15)\n",
    "    \n",
    "    circular_roi = cv2.bitwise_and(thresholded,thresholded,mask=circular_roi)\n",
    "    \n",
    "    # Grab contours in circle ROI    \n",
    "    contours,hierarchy = cv2.findContours(circular_roi.copy(),cv2.RETR_EXTERNAL,cv2.CHAIN_APPROX_NONE)\n",
    "    \n",
    "    count = 0\n",
    "\n",
    "    # loop through the contours to to count fingers.    \n",
    "    for cnt in contours:\n",
    "        \n",
    "        # Bounding box of countour\n",
    "        (x,y,w,h) = cv2.boundingRect(cnt)\n",
    "        \n",
    "        # Increment count of fingers based on two conditions:\n",
    "            # we are excluding the bottom area of hand to be counter as finger\n",
    "        out_of_wrist = (cY + (cY*0.25)) > (y+h)\n",
    "        \n",
    "            # Number of points along the countous does not exceed 25% of the circumference of the circular ROI (otherwise we're counting points off the hand)\n",
    "        limit_points = ((circumfrence*0.25) > cnt.shape[0])\n",
    "        \n",
    "        if out_of_wrist and limit_points and max_distance > 92:\n",
    "            count += 1\n",
    "            \n",
    "    return count"
   ]
  },
  {
   "cell_type": "markdown",
   "metadata": {},
   "source": [
    "## Main\n"
   ]
  },
  {
   "cell_type": "code",
   "execution_count": 6,
   "metadata": {},
   "outputs": [],
   "source": [
    "cam = cv2.VideoCapture(0)\n",
    "\n",
    "num_frames = 0\n",
    "\n",
    "\n",
    "while True:\n",
    "\n",
    "    ret, frame = cam.read()\n",
    "    frame_copy = frame.copy()\n",
    "\n",
    "    roi = frame[roi_top:roi_bottom,roi_right:roi_left]\n",
    "    \n",
    "    gray = cv2.cvtColor(roi,cv2.COLOR_BGR2GRAY)\n",
    "    gray = cv2.GaussianBlur(gray,(7,7),0)\n",
    "    \n",
    "    if num_frames < 60:\n",
    "        calc_accum_avg(gray,accumulated_weight)\n",
    "        \n",
    "        if num_frames <= 59:\n",
    "            cv2.putText(frame_copy,'WAIT... GETTING BACKGROUND',(5,30),cv2.FONT_HERSHEY_SIMPLEX,1,(0,0,255),1)\n",
    "\n",
    "    else:\n",
    "        \n",
    "        hand = segment(gray)\n",
    "       \n",
    "        if hand is not None:\n",
    "            thresholded , hand_segment = hand\n",
    "            \n",
    "            # DRAWS CONTOURS AROUND REAL HAND IN LIVE STREAM\n",
    "            cv2.drawContours(frame_copy,[hand_segment+(roi_right,roi_top)],-1,(255,0,0),5)\n",
    "            fingers = count_fingers(thresholded,hand_segment)\n",
    "            \n",
    "            \n",
    "            cv2.putText(frame_copy,str(fingers),(70,50),cv2.FONT_HERSHEY_SIMPLEX,1,(0,0,255),2)\n",
    "            \n",
    "            \n",
    "    cv2.rectangle(frame_copy,(roi_left,roi_top),(roi_right,roi_bottom),(0,0,255),5)\n",
    "    \n",
    "    num_frames += 1\n",
    "    \n",
    "    cv2.imshow('Finger Count',frame_copy)\n",
    "    \n",
    "    \n",
    "    k = cv2.waitKey(1) & 0xFF\n",
    "    \n",
    "    if k == 27:\n",
    "        break\n",
    "        \n",
    "cam.release()\n",
    "cv2.destroyAllWindows()\n",
    "\n"
   ]
  },
  {
   "cell_type": "code",
   "execution_count": null,
   "metadata": {},
   "outputs": [],
   "source": []
  },
  {
   "cell_type": "code",
   "execution_count": null,
   "metadata": {},
   "outputs": [],
   "source": []
  }
 ],
 "metadata": {
  "kernelspec": {
   "display_name": "Python 3",
   "language": "python",
   "name": "python3"
  },
  "language_info": {
   "codemirror_mode": {
    "name": "ipython",
    "version": 3
   },
   "file_extension": ".py",
   "mimetype": "text/x-python",
   "name": "python",
   "nbconvert_exporter": "python",
   "pygments_lexer": "ipython3",
   "version": "3.6.6"
  }
 },
 "nbformat": 4,
 "nbformat_minor": 2
}
